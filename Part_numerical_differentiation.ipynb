{
 "cells": [
  {
   "cell_type": "code",
   "execution_count": 1,
   "id": "52c38a4a",
   "metadata": {},
   "outputs": [],
   "source": [
    "import numpy as np\n",
    "import matplotlib.pyplot as plt\n",
    "import time\n",
    "%matplotlib qt "
   ]
  },
  {
   "cell_type": "markdown",
   "id": "4a9921b6",
   "metadata": {},
   "source": [
    "## Let's plot the derivative numerically\n",
    "\n",
    "Function:\n",
    "\\begin{gather*}\n",
    "f(x) = exp(x)-x^2+cos(x)\n",
    "\\end{gather*}\n",
    "\n",
    "Manually derived derivative:\n",
    "\\begin{gather*}\n",
    "f^\\prime (x) = exp(x)-2x-sin(x)\n",
    "\\end{gather*}\n",
    "\n",
    "Numerically derived derivative by:\n",
    "\n",
    "\\begin{gather*}\n",
    "\\frac{\\partial f}{\\partial x} = \\lim_{h\\rightarrow 0} \\frac{f(x+h)-f(x)}{h}\n",
    "\\end{gather*}"
   ]
  },
  {
   "cell_type": "code",
   "execution_count": 2,
   "id": "46b12cc7",
   "metadata": {},
   "outputs": [],
   "source": [
    "f = lambda x: np.exp(x) - x**2 + np.cos(x)\n",
    "diff_f = lambda x: np.exp(x) - 2*x - np.sin(x)\n",
    "num_diff_f = lambda x, h: (f(x+h)-f(x))/h"
   ]
  },
  {
   "cell_type": "code",
   "execution_count": 3,
   "id": "aaac7003",
   "metadata": {},
   "outputs": [],
   "source": [
    "def diffs_mult(h_mult):\n",
    "    \n",
    "    plt.figure(figsize = (16,12))\n",
    "    \n",
    "    for i, h in enumerate(h_mult):\n",
    "        \n",
    "        x = np.arange(0, 5, h)\n",
    "\n",
    "        num_diff = num_diff_f(x, h)\n",
    "        man_diff   = diff_f(x)\n",
    "        \n",
    "        plt.subplot(2, 2, 1+i)\n",
    "        \n",
    "        plt.plot(x,num_diff, marker = 'x', label = 'Numerical derivative')\n",
    "        plt.plot(x,man_diff, marker = 'x', label = 'Manual derivative')\n",
    "\n",
    "        plt.xlabel('x', fontsize =15)\n",
    "        plt.ylabel(r'$f^\\prime(x)$', fontsize =15)\n",
    "        plt.title(f' h = {h}', fontsize =20)\n",
    "        plt.legend()\n",
    "        #plt.show()\n",
    "        plt.savefig('C:/Users/lenas/OneDrive/Documents/Uni/Seminar/Pictures/Num_diff_mult_h.png', dpi = 300)"
   ]
  },
  {
   "cell_type": "code",
   "execution_count": 4,
   "id": "f0596d3a",
   "metadata": {},
   "outputs": [],
   "source": [
    "h_mult = [1, 0.1, 0.01, 0.001]\n",
    "diffs_mult(h_mult)"
   ]
  },
  {
   "cell_type": "markdown",
   "id": "f40b12b9",
   "metadata": {},
   "source": [
    "## Let's look on the difference between manual and numerical deviation values\n",
    "\n",
    "\\begin{gather*}\n",
    "    Error(h, x_0) = \\left| \\frac{f(x_0+h)-f(x_0)}{h} - f^\\prime(x_0) \\right|\n",
    "\\end{gather*}"
   ]
  },
  {
   "cell_type": "code",
   "execution_count": 5,
   "id": "7f7ee13f",
   "metadata": {},
   "outputs": [],
   "source": [
    "def Error(h, x0):\n",
    "    return np.abs(num_diff_f(x0, h)- diff_f(x0))"
   ]
  },
  {
   "cell_type": "code",
   "execution_count": 6,
   "id": "fca065d1",
   "metadata": {},
   "outputs": [],
   "source": [
    "h = np.logspace(-18, 0, 19)\n",
    "x0 = 2\n",
    "\n",
    "plt.plot(h, Error(h,x0), marker = 'x', color = 'k')\n",
    "plt.title(r'Error at $x_0=2$ for different $h$', fontsize=20)\n",
    "plt.xlabel(r'$h$', fontsize=15)\n",
    "plt.ylabel('Error', fontsize=15)\n",
    "plt.xscale('log')\n",
    "plt.yscale('log')\n",
    "plt.grid(axis = 'both', color = 'lightgrey')"
   ]
  },
  {
   "cell_type": "code",
   "execution_count": 7,
   "id": "e7cf651f",
   "metadata": {},
   "outputs": [],
   "source": [
    "plt.plot(h, Error(h,x0), marker = 'x', color = 'k')\n",
    "plt.vlines(x=1e-16, ymin = min(Error(h,x0)), ymax = max(Error(h,x0)), linestyle = ':', color = 'b')\n",
    "plt.text(1.3e-16, 1e-7, r'$x = 10^{-16}$', fontsize = 12, color = 'b')\n",
    "plt.title(r'Error at $x_0=2$ for different $h$', fontsize=20)\n",
    "plt.xlabel(r'$h$', fontsize=15)\n",
    "plt.ylabel('Error', fontsize=15)\n",
    "plt.xscale('log')\n",
    "plt.yscale('log')\n",
    "plt.grid(axis = 'both', color = 'lightgrey')"
   ]
  },
  {
   "cell_type": "markdown",
   "id": "f9156efa",
   "metadata": {},
   "source": [
    "## Look at the computation time numerically for different step sizes $h$"
   ]
  },
  {
   "cell_type": "code",
   "execution_count": 8,
   "id": "98b92027",
   "metadata": {},
   "outputs": [],
   "source": [
    "def diffs(h):\n",
    "\n",
    "    x = np.arange(0, 5, h)\n",
    "    num_diff = num_diff_f(x, h)\n",
    "    \n",
    "    return num_diff"
   ]
  },
  {
   "cell_type": "code",
   "execution_count": 9,
   "id": "3fd85aa2",
   "metadata": {},
   "outputs": [],
   "source": [
    "h_mult = [1, 0.1, 0.01, 0.001, 1e-4, 1e-5, 1e-6, 1e-7, 1e-8, 1e-9, 1e-10]"
   ]
  },
  {
   "cell_type": "code",
   "execution_count": null,
   "id": "0e6d2370",
   "metadata": {},
   "outputs": [
    {
     "name": "stdout",
     "output_type": "stream",
     "text": [
      "0.0010037422180175781\n",
      "0.0009963512420654297\n",
      "0.0\n",
      "0.0010006427764892578\n",
      "0.0049991607666015625\n",
      "0.050000667572021484\n",
      "0.9059991836547852\n",
      "7.392000198364258\n"
     ]
    }
   ],
   "source": [
    "time_diff = []\n",
    "for i, hi in enumerate(h_mult):\n",
    "    \n",
    "    t1 = time.time()\n",
    "    diffs(hi)\n",
    "    t2 = time.time()\n",
    "    \n",
    "    print(t2-t1)\n",
    "    time_diff.append(t2-t1)"
   ]
  },
  {
   "cell_type": "code",
   "execution_count": null,
   "id": "26d934d2",
   "metadata": {},
   "outputs": [],
   "source": []
  }
 ],
 "metadata": {
  "kernelspec": {
   "display_name": "Python 3 (ipykernel)",
   "language": "python",
   "name": "python3"
  },
  "language_info": {
   "codemirror_mode": {
    "name": "ipython",
    "version": 3
   },
   "file_extension": ".py",
   "mimetype": "text/x-python",
   "name": "python",
   "nbconvert_exporter": "python",
   "pygments_lexer": "ipython3",
   "version": "3.11.3"
  }
 },
 "nbformat": 4,
 "nbformat_minor": 5
}
