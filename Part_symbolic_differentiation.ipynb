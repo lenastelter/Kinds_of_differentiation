{
 "cells": [
  {
   "cell_type": "code",
   "execution_count": 1,
   "id": "c10e33bc",
   "metadata": {},
   "outputs": [],
   "source": [
    "import matplotlib.pyplot as plt\n",
    "import numpy as np\n",
    "import sympy as sp\n",
    "import time\n",
    "from IPython.display import display, Math"
   ]
  },
  {
   "cell_type": "markdown",
   "id": "c03f701b",
   "metadata": {},
   "source": [
    "## With same function as before: deriving the symbolic derivative\n",
    "\n",
    "Function:\n",
    "\\begin{gather*}\n",
    "f(x) = exp(x)-x^2+cos(x)\n",
    "\\end{gather*}\n",
    "\n",
    "Manually derived derivative:\n",
    "\\begin{gather*}\n",
    "f^\\prime (x) = exp(x)-2x-sin(x)\n",
    "\\end{gather*}"
   ]
  },
  {
   "cell_type": "code",
   "execution_count": 2,
   "id": "d018e921",
   "metadata": {},
   "outputs": [],
   "source": [
    "# function \n",
    "f = lambda x: np.exp(x) - x**2 + np.cos(x)\n",
    "\n",
    "# function with sympy instead of numpy (sympy: symbolically (can manipulate expressions), numpy: numerically)\n",
    "f_sym = lambda x: sp.exp(x) - x**2 + sp.cos(x)\n",
    "\n",
    "# manual diff\n",
    "diff_f = lambda x: np.exp(x) - 2*x - np.sin(x)\n",
    "\n",
    "# numerical diff\n",
    "num_diff_f = lambda x, h: (f(x+h)-f(x))/h"
   ]
  },
  {
   "cell_type": "code",
   "execution_count": 3,
   "id": "bb1f81fb",
   "metadata": {},
   "outputs": [
    {
     "data": {
      "text/latex": [
       "$\\displaystyle - x^{2} + e^{x} + \\cos{\\left(x \\right)}$"
      ],
      "text/plain": [
       "-x**2 + exp(x) + cos(x)"
      ]
     },
     "execution_count": 3,
     "metadata": {},
     "output_type": "execute_result"
    }
   ],
   "source": [
    "symb_x = sp.symbols('x')\n",
    "symb_f = f_sym(symb_x)\n",
    "symb_f"
   ]
  },
  {
   "cell_type": "markdown",
   "id": "56def2ef",
   "metadata": {},
   "source": [
    "## Find derivative symbolically\n",
    "\n",
    "Manually derived derivative:\n",
    "\\begin{gather*}\n",
    "f^\\prime (x) = exp(x)-2x-sin(x)\n",
    "\\end{gather*}\n",
    "\n",
    "Symbolically derived derivative:"
   ]
  },
  {
   "cell_type": "code",
   "execution_count": 4,
   "id": "d9eb5284",
   "metadata": {},
   "outputs": [
    {
     "data": {
      "text/latex": [
       "$\\displaystyle - 2 x + e^{x} - \\sin{\\left(x \\right)}$"
      ],
      "text/plain": [
       "-2*x + exp(x) - sin(x)"
      ]
     },
     "execution_count": 4,
     "metadata": {},
     "output_type": "execute_result"
    }
   ],
   "source": [
    "# derive derivative\n",
    "div = symb_f.diff(symb_x)\n",
    "div"
   ]
  },
  {
   "cell_type": "markdown",
   "id": "faf45f0a",
   "metadata": {},
   "source": [
    "## Let' check the computation time"
   ]
  },
  {
   "cell_type": "code",
   "execution_count": 5,
   "id": "a3df6982",
   "metadata": {},
   "outputs": [],
   "source": [
    "x = np.arange(0,5,1)"
   ]
  },
  {
   "cell_type": "code",
   "execution_count": 6,
   "id": "9e0b78b4",
   "metadata": {},
   "outputs": [
    {
     "ename": "NameError",
     "evalue": "name 'symbolic_f' is not defined",
     "output_type": "error",
     "traceback": [
      "\u001b[1;31m---------------------------------------------------------------------------\u001b[0m",
      "\u001b[1;31mNameError\u001b[0m                                 Traceback (most recent call last)",
      "Cell \u001b[1;32mIn[6], line 2\u001b[0m\n\u001b[0;32m      1\u001b[0m time1 \u001b[38;5;241m=\u001b[39m time\u001b[38;5;241m.\u001b[39mtime()\n\u001b[1;32m----> 2\u001b[0m symb_y \u001b[38;5;241m=\u001b[39m sp\u001b[38;5;241m.\u001b[39mlambdify(symb_x,symbolic_f)(x)\n\u001b[0;32m      3\u001b[0m time2 \u001b[38;5;241m=\u001b[39m time\u001b[38;5;241m.\u001b[39mtime()\n\u001b[0;32m      5\u001b[0m tot_t \u001b[38;5;241m=\u001b[39m time2\u001b[38;5;241m-\u001b[39mtime1\n",
      "\u001b[1;31mNameError\u001b[0m: name 'symbolic_f' is not defined"
     ]
    }
   ],
   "source": [
    "time1 = time.time()\n",
    "symb_y = sp.lambdify(symb_x,symbolic_f)(x)\n",
    "time2 = time.time()\n",
    "\n",
    "tot_t = time2-time1 "
   ]
  },
  {
   "cell_type": "code",
   "execution_count": null,
   "id": "5ea602f2",
   "metadata": {},
   "outputs": [],
   "source": [
    "# Duration of deriving the deviation symbolically\n",
    "print('Duration: t=', tot_t)"
   ]
  },
  {
   "cell_type": "markdown",
   "id": "bc61ec32",
   "metadata": {},
   "source": [
    "### Remember numerically"
   ]
  },
  {
   "cell_type": "code",
   "execution_count": null,
   "id": "27749a77",
   "metadata": {},
   "outputs": [],
   "source": [
    "h = 1\n",
    "\n",
    "time1 = time.time()\n",
    "num_diff = num_diff_f(x,h)\n",
    "time2 = time.time()\n",
    "\n",
    "tot_t_num = time2-time1"
   ]
  },
  {
   "cell_type": "code",
   "execution_count": null,
   "id": "4f37b71a",
   "metadata": {},
   "outputs": [],
   "source": [
    "display(Math(r'$t_{sym}$ - $t_{num} = %05f$' % (tot_t - tot_t_num)))"
   ]
  },
  {
   "cell_type": "markdown",
   "id": "7575d8b5",
   "metadata": {},
   "source": [
    "### How about different step sizes $h$"
   ]
  },
  {
   "cell_type": "code",
   "execution_count": null,
   "id": "70f6bea0",
   "metadata": {},
   "outputs": [],
   "source": [
    "h_mult = [1, 0.1, 0.01, 0.001, 1e-4, 1e-5, 1e-6, 1e-7, 1e-8, 1e-9, 1e-10]"
   ]
  },
  {
   "cell_type": "code",
   "execution_count": null,
   "id": "8e79339a",
   "metadata": {},
   "outputs": [],
   "source": [
    "time_diff = []\n",
    "\n",
    "for i, hi in enumerate(h_mult):\n",
    "    x = np.arange(0,5,hi)\n",
    "    t1 = time.time()\n",
    "    symb_y = sp.lambdify(symb_x,div)(x)\n",
    "    t2 = time.time()\n",
    "    print(t2-t1)\n",
    "    time_diff.append(t2-t1)"
   ]
  },
  {
   "cell_type": "code",
   "execution_count": null,
   "id": "e78a32c2",
   "metadata": {},
   "outputs": [],
   "source": [
    "h = 1e-8\n",
    "x = np.arange(0,5,h)\n",
    "\n",
    "# symbolical derivative\n",
    "time1 = time.time()\n",
    "symb_y = sp.lambdify(symb_x,symb_f)(x)\n",
    "time2 = time.time()\n",
    "\n",
    "tot_t = time2-time1 \n",
    "\n",
    "\n",
    "# numerical derivative\n",
    "time1 = time.time()\n",
    "num_diff = num_diff_f(x,h)\n",
    "time2 = time.time()\n",
    "\n",
    "tot_t_num = time2-time1\n",
    "\n",
    "display(Math(r'$t_{sym}$ - $t_{num} = %05f$' % (tot_t - tot_t_num)))"
   ]
  },
  {
   "cell_type": "markdown",
   "id": "eedc4bd0",
   "metadata": {},
   "source": [
    "## Plot symbolic function usind sympy"
   ]
  },
  {
   "cell_type": "code",
   "execution_count": 7,
   "id": "c504c47c",
   "metadata": {},
   "outputs": [
    {
     "data": {
      "text/plain": [
       "(array([], dtype=float64), array([], dtype=int32))"
      ]
     },
     "execution_count": 7,
     "metadata": {},
     "output_type": "execute_result"
    },
    {
     "data": {
      "image/png": "[encoded data removed]",
      "text/plain": [
       "<Figure size 640x480 with 1 Axes>"
      ]
     },
     "metadata": {},
     "output_type": "display_data"
    }
   ],
   "source": [
    "x = np.arange(0,5,-7)\n",
    "symb_y = sp.lambdify(symb_x,symb_f)(x)\n",
    "plt.plot(x,symb_y, marker = 'x')\n",
    "symb_y,x"
   ]
  },
  {
   "cell_type": "markdown",
   "id": "9bc49717",
   "metadata": {},
   "source": [
    "## Expression swell\n",
    "\n",
    "Show expression swell of the symbolic derivative for the logistic map with $r=2$\n",
    "\n",
    "\\begin{gather*}\n",
    "l_1 = x \\\\\n",
    "l_{n+1} = r l_n (1- l_n)\n",
    "\\end{gather*}"
   ]
  },
  {
   "cell_type": "code",
   "execution_count": 8,
   "id": "944b187f",
   "metadata": {},
   "outputs": [],
   "source": [
    "# fuctions for n = 1,...,4\n",
    "l1 = lambda x: x\n",
    "l2 = lambda x: 2*l1(x)*(1-l1(x))\n",
    "l3 = lambda x: 2*l2(x)*(1-l2(x))\n",
    "l4 = lambda x: 2*l3(x)*(1-l3(x))"
   ]
  },
  {
   "cell_type": "code",
   "execution_count": 9,
   "id": "a7949bf0",
   "metadata": {},
   "outputs": [],
   "source": [
    "# the functions symbolicaly in respect to x\n",
    "symb_l1 = l1(symb_x)\n",
    "symb_l2 = l2(symb_x)\n",
    "symb_l3 = l3(symb_x)\n",
    "symb_l4 = l4(symb_x)"
   ]
  },
  {
   "cell_type": "code",
   "execution_count": 10,
   "id": "f4741ab5",
   "metadata": {},
   "outputs": [
    {
     "name": "stdout",
     "output_type": "stream",
     "text": [
      "0.0010008811950683594 0.008997678756713867 0.019001483917236328 0.028001070022583008\n"
     ]
    }
   ],
   "source": [
    "# derive derivative symbolically and the duration till derivative is determined\n",
    "t1 = time.time()\n",
    "diff_symb_l1 = symb_l1.diff(symb_x)\n",
    "t2 = time.time()\n",
    "diff_symb_l2 = symb_l2.diff(symb_x)\n",
    "t3 = time.time()\n",
    "diff_symb_l3 = symb_l3.diff(symb_x)\n",
    "t4 = time.time()\n",
    "diff_symb_l4 = symb_l4.diff(symb_x)\n",
    "t5 = time.time()\n",
    "\n",
    "# give out durations\n",
    "print(t2-t1, t3-t2, t4-t3, t5-t4)"
   ]
  },
  {
   "cell_type": "code",
   "execution_count": 11,
   "id": "dcda738f",
   "metadata": {},
   "outputs": [
    {
     "data": {
      "text/plain": [
       "(x, 1)"
      ]
     },
     "execution_count": 11,
     "metadata": {},
     "output_type": "execute_result"
    }
   ],
   "source": [
    "symb_l1, diff_symb_l1"
   ]
  },
  {
   "cell_type": "code",
   "execution_count": 12,
   "id": "db6ba46a",
   "metadata": {},
   "outputs": [
    {
     "data": {
      "text/latex": [
       "$\\displaystyle f_1(x)=x$"
      ],
      "text/plain": [
       "<IPython.core.display.Math object>"
      ]
     },
     "metadata": {},
     "output_type": "display_data"
    },
    {
     "data": {
      "text/latex": [
       "$\\displaystyle f^\\prime_1(x)=1$"
      ],
      "text/plain": [
       "<IPython.core.display.Math object>"
      ]
     },
     "metadata": {},
     "output_type": "display_data"
    }
   ],
   "source": [
    "display(Math(rf'f_1(x)={sp.latex(symb_l1)}'))\n",
    "display(Math(rf'f^\\prime_1(x)={sp.latex(diff_symb_l1)}'))"
   ]
  },
  {
   "cell_type": "code",
   "execution_count": 13,
   "id": "1c92c0c7",
   "metadata": {},
   "outputs": [
    {
     "data": {
      "text/latex": [
       "$\\displaystyle f_2(x)=2 x \\left(1 - x\\right)$"
      ],
      "text/plain": [
       "<IPython.core.display.Math object>"
      ]
     },
     "metadata": {},
     "output_type": "display_data"
    },
    {
     "data": {
      "text/latex": [
       "$\\displaystyle f^\\prime_2(x)=2 - 4 x$"
      ],
      "text/plain": [
       "<IPython.core.display.Math object>"
      ]
     },
     "metadata": {},
     "output_type": "display_data"
    }
   ],
   "source": [
    "display(Math(rf'f_2(x)={sp.latex(symb_l2)}'))\n",
    "display(Math(rf'f^\\prime_2(x)={sp.latex(diff_symb_l2)}'))"
   ]
  },
  {
   "cell_type": "code",
   "execution_count": 14,
   "id": "9293b578",
   "metadata": {},
   "outputs": [
    {
     "data": {
      "text/latex": [
       "$\\displaystyle f_3(x)=4 x \\left(1 - x\\right) \\left(- 2 x \\left(1 - x\\right) + 1\\right)$"
      ],
      "text/plain": [
       "<IPython.core.display.Math object>"
      ]
     },
     "metadata": {},
     "output_type": "display_data"
    },
    {
     "data": {
      "text/latex": [
       "$\\displaystyle f^\\prime_3(x)=4 x \\left(1 - x\\right) \\left(4 x - 2\\right) - 4 x \\left(- 2 x \\left(1 - x\\right) + 1\\right) + 4 \\cdot \\left(1 - x\\right) \\left(- 2 x \\left(1 - x\\right) + 1\\right)$"
      ],
      "text/plain": [
       "<IPython.core.display.Math object>"
      ]
     },
     "metadata": {},
     "output_type": "display_data"
    }
   ],
   "source": [
    "display(Math(rf'f_3(x)={sp.latex(symb_l3)}'))\n",
    "display(Math(rf'f^\\prime_3(x)={sp.latex(diff_symb_l3)}'))"
   ]
  },
  {
   "cell_type": "code",
   "execution_count": 15,
   "id": "0111f3f9",
   "metadata": {},
   "outputs": [
    {
     "data": {
      "text/latex": [
       "$\\displaystyle f_4(x)=8 x \\left(1 - x\\right) \\left(- 2 x \\left(1 - x\\right) + 1\\right) \\left(- 4 x \\left(1 - x\\right) \\left(- 2 x \\left(1 - x\\right) + 1\\right) + 1\\right)$"
      ],
      "text/plain": [
       "<IPython.core.display.Math object>"
      ]
     },
     "metadata": {},
     "output_type": "display_data"
    },
    {
     "data": {
      "text/latex": [
       "$\\displaystyle f^\\prime_4(x)=8 x \\left(1 - x\\right) \\left(4 x - 2\\right) \\left(- 4 x \\left(1 - x\\right) \\left(- 2 x \\left(1 - x\\right) + 1\\right) + 1\\right) + 8 x \\left(1 - x\\right) \\left(- 2 x \\left(1 - x\\right) + 1\\right) \\left(- 4 x \\left(1 - x\\right) \\left(4 x - 2\\right) + 4 x \\left(- 2 x \\left(1 - x\\right) + 1\\right) - 4 \\cdot \\left(1 - x\\right) \\left(- 2 x \\left(1 - x\\right) + 1\\right)\\right) - 8 x \\left(- 2 x \\left(1 - x\\right) + 1\\right) \\left(- 4 x \\left(1 - x\\right) \\left(- 2 x \\left(1 - x\\right) + 1\\right) + 1\\right) + 8 \\cdot \\left(1 - x\\right) \\left(- 2 x \\left(1 - x\\right) + 1\\right) \\left(- 4 x \\left(1 - x\\right) \\left(- 2 x \\left(1 - x\\right) + 1\\right) + 1\\right)$"
      ],
      "text/plain": [
       "<IPython.core.display.Math object>"
      ]
     },
     "metadata": {},
     "output_type": "display_data"
    }
   ],
   "source": [
    "display(Math(rf'f_4(x)={sp.latex(symb_l4)}'))\n",
    "display(Math(rf'f^\\prime_4(x)={sp.latex(diff_symb_l4)}'))"
   ]
  },
  {
   "cell_type": "code",
   "execution_count": 16,
   "id": "0206f018",
   "metadata": {},
   "outputs": [],
   "source": [
    "h = 1e-7\n",
    "x = np.arange(0,5,h)\n",
    "\n",
    "time1 = time.time()\n",
    "symb_y = sp.lambdify(symb_x,diff_symb_l1)(x)\n",
    "time2 = time.time()\n",
    "\n",
    "t1 = time2-time1\n",
    "\n",
    "time1 = time.time()\n",
    "symb_y = sp.lambdify(symb_x,diff_symb_l2)(x)\n",
    "time2 = time.time()\n",
    "\n",
    "t2 = time2-time1\n",
    "\n",
    "time1 = time.time()\n",
    "symb_y = sp.lambdify(symb_x,diff_symb_l3)(x)\n",
    "time2 = time.time()\n",
    "\n",
    "t3 = time2-time1\n",
    "\n",
    "time1 = time.time()\n",
    "symb_y = sp.lambdify(symb_x,diff_symb_l4)(x)\n",
    "time2 = time.time()\n",
    "\n",
    "t4 = time2-time1"
   ]
  },
  {
   "cell_type": "code",
   "execution_count": 17,
   "id": "59e0b1e9",
   "metadata": {},
   "outputs": [
    {
     "data": {
      "text/plain": [
       "(0.0009970664978027344,\n",
       " 0.3450002670288086,\n",
       " 4.490997314453125,\n",
       " 19.733052492141724)"
      ]
     },
     "execution_count": 17,
     "metadata": {},
     "output_type": "execute_result"
    }
   ],
   "source": [
    "t1, t2, t3, t4"
   ]
  },
  {
   "cell_type": "code",
   "execution_count": 18,
   "id": "650dcdb6",
   "metadata": {},
   "outputs": [
    {
     "data": {
      "text/plain": [
       "(0.04799795150756836,\n",
       " 0.37900209426879883,\n",
       " 4.143100261688232,\n",
       " 17.217628240585327)"
      ]
     },
     "execution_count": 18,
     "metadata": {},
     "output_type": "execute_result"
    }
   ],
   "source": [
    "h = 1e-7\n",
    "x = np.arange(0,5,h)\n",
    "\n",
    "time1 = time.time()\n",
    "symb_y = sp.lambdify(symb_x,diff_symb_l1)(x)\n",
    "time2 = time.time()\n",
    "\n",
    "t1 = time2-time1\n",
    "\n",
    "time1 = time.time()\n",
    "symb_y = sp.lambdify(symb_x,diff_symb_l2)(x)\n",
    "time2 = time.time()\n",
    "\n",
    "t2 = time2-time1\n",
    "\n",
    "time1 = time.time()\n",
    "symb_y = sp.lambdify(symb_x,diff_symb_l3)(x)\n",
    "time2 = time.time()\n",
    "\n",
    "t3 = time2-time1\n",
    "\n",
    "time1 = time.time()\n",
    "symb_y = sp.lambdify(symb_x,diff_symb_l4)(x)\n",
    "time2 = time.time()\n",
    "\n",
    "t4 = time2-time1\n",
    "\n",
    "t1, t2, t3, t4"
   ]
  },
  {
   "cell_type": "markdown",
   "id": "57f522fe",
   "metadata": {},
   "source": [
    "## Chain rule"
   ]
  },
  {
   "cell_type": "code",
   "execution_count": 19,
   "id": "102172f2",
   "metadata": {},
   "outputs": [],
   "source": [
    "#smbol that can present any (complex) number\n",
    "symb_x = sp.symbols('x')"
   ]
  },
  {
   "cell_type": "code",
   "execution_count": 20,
   "id": "8e919755",
   "metadata": {},
   "outputs": [],
   "source": [
    "# with standard oparations from sympy instead of maths or numpy\n",
    "def f_1(x):\n",
    "    return sp.exp(x)\n",
    "\n",
    "def f_2(x):\n",
    "    return sp.sin(x) \n",
    "\n",
    "def f_3(x):\n",
    "    return x**3 \n",
    "    \n",
    "# function with chain rule    \n",
    "chain = f_1(f_2(f_3(symb_x)))\n",
    "\n",
    "# derivative of funcion\n",
    "chain_der = chain.diff(symb_x)"
   ]
  },
  {
   "cell_type": "code",
   "execution_count": 21,
   "id": "7dca0989",
   "metadata": {},
   "outputs": [
    {
     "data": {
      "text/latex": [
       "$\\displaystyle e^{\\sin{\\left(x^{3} \\right)}}$"
      ],
      "text/plain": [
       "exp(sin(x**3))"
      ]
     },
     "execution_count": 21,
     "metadata": {},
     "output_type": "execute_result"
    }
   ],
   "source": [
    "# print function\n",
    "chain"
   ]
  },
  {
   "cell_type": "code",
   "execution_count": 22,
   "id": "e9e41624",
   "metadata": {},
   "outputs": [
    {
     "data": {
      "text/latex": [
       "$\\displaystyle 3 x^{2} e^{\\sin{\\left(x^{3} \\right)}} \\cos{\\left(x^{3} \\right)}$"
      ],
      "text/plain": [
       "3*x**2*exp(sin(x**3))*cos(x**3)"
      ]
     },
     "execution_count": 22,
     "metadata": {},
     "output_type": "execute_result"
    }
   ],
   "source": [
    "# print derivative of function\n",
    "chain_der"
   ]
  },
  {
   "cell_type": "markdown",
   "id": "78049787",
   "metadata": {},
   "source": [
    "## Problem of control flow"
   ]
  },
  {
   "cell_type": "code",
   "execution_count": 23,
   "id": "34c4fae2",
   "metadata": {},
   "outputs": [
    {
     "name": "stdout",
     "output_type": "stream",
     "text": [
      "cannot determine truth value of Relational\n"
     ]
    }
   ],
   "source": [
    "def f_4(x):\n",
    "    if x < 0:\n",
    "        return x\n",
    "    else:\n",
    "        return x**3 - 20\n",
    "    \n",
    "try:\n",
    "    f_4(symb_x)\n",
    "except TypeError as error:\n",
    "    print(error)"
   ]
  },
  {
   "cell_type": "code",
   "execution_count": 24,
   "id": "09f87d6d",
   "metadata": {},
   "outputs": [
    {
     "data": {
      "image/png": "[encoded data removed]",
      "text/plain": [
       "<Figure size 400x200 with 1 Axes>"
      ]
     },
     "metadata": {},
     "output_type": "display_data"
    }
   ],
   "source": [
    "x = np.linspace(-5,5,100)\n",
    "y = np.array([f_4(i) for i in x])\n",
    "\n",
    "plt.figure(figsize = (4, 2))\n",
    "plt.plot(x,y, marker = 'x')\n",
    "plt.title(r'$f_4(x)$ with if/else condition')\n",
    "plt.show()"
   ]
  },
  {
   "cell_type": "code",
   "execution_count": 25,
   "id": "fbc1e13f",
   "metadata": {},
   "outputs": [
    {
     "name": "stdout",
     "output_type": "stream",
     "text": [
      "'function' object has no attribute 'diff'\n"
     ]
    }
   ],
   "source": [
    "# try symbolic differentiation\n",
    "try:\n",
    "    f_4.diff(symb_x)\n",
    "except AttributeError as error:\n",
    "    print(error)"
   ]
  },
  {
   "cell_type": "code",
   "execution_count": 26,
   "id": "58ef4df6",
   "metadata": {},
   "outputs": [
    {
     "name": "stdout",
     "output_type": "stream",
     "text": [
      "cannot determine truth value of Relational\n"
     ]
    }
   ],
   "source": [
    "def f_5(x):\n",
    "    while -2 < x < 2:\n",
    "        return 50\n",
    "    else:\n",
    "        return x**3\n",
    "    \n",
    "try:\n",
    "    f_5(symb_x)\n",
    "except TypeError as error:\n",
    "    print(error)"
   ]
  },
  {
   "cell_type": "code",
   "execution_count": 27,
   "id": "bdc1e6dd",
   "metadata": {},
   "outputs": [
    {
     "data": {
      "image/png": "[encoded data removed]",
      "text/plain": [
       "<Figure size 400x200 with 1 Axes>"
      ]
     },
     "metadata": {},
     "output_type": "display_data"
    }
   ],
   "source": [
    "x = np.linspace(-5,5,100)\n",
    "y = np.array([f_5(i) for i in x])\n",
    "\n",
    "plt.figure(figsize = (4, 2))\n",
    "plt.plot(x,y, marker = 'x')\n",
    "plt.title(r'$f_5(x)$ with while loop')\n",
    "plt.show()"
   ]
  },
  {
   "cell_type": "code",
   "execution_count": 28,
   "id": "7063e565",
   "metadata": {},
   "outputs": [
    {
     "name": "stdout",
     "output_type": "stream",
     "text": [
      "'function' object has no attribute 'diff'\n"
     ]
    }
   ],
   "source": [
    "# try symbolic differentiation\n",
    "try:\n",
    "    f_5.diff(symb_x)\n",
    "except AttributeError as error:\n",
    "    print(error)"
   ]
  },
  {
   "cell_type": "code",
   "execution_count": 29,
   "id": "69d1bce2",
   "metadata": {},
   "outputs": [
    {
     "data": {
      "image/png": "[encoded data removed]",
      "text/plain": [
       "<Figure size 400x300 with 1 Axes>"
      ]
     },
     "metadata": {},
     "output_type": "display_data"
    }
   ],
   "source": [
    "x = np.linspace(-5,5,100)\n",
    "y1 = np.array([f_4(i) for i in x])\n",
    "y2 = np.array([f_5(i) for i in x])\n",
    "\n",
    "plt.figure(figsize = (4, 3))\n",
    "\n",
    "plt.plot(x,y1, marker = 'x', label = r'$f_4(x)$ with if/else condition')\n",
    "plt.plot(x,y2, marker = 'x', label = r'$f_5(x)$ with while loop')\n",
    "plt.ylabel(r'$y$')\n",
    "plt.xlabel('$x$')\n",
    "plt.legend()\n",
    "plt.show()"
   ]
  },
  {
   "cell_type": "code",
   "execution_count": null,
   "id": "3978abd0",
   "metadata": {},
   "outputs": [],
   "source": []
  },
  {
   "cell_type": "code",
   "execution_count": null,
   "id": "46f958b7",
   "metadata": {},
   "outputs": [],
   "source": []
  }
 ],
 "metadata": {
  "kernelspec": {
   "display_name": "Python 3 (ipykernel)",
   "language": "python",
   "name": "python3"
  },
  "language_info": {
   "codemirror_mode": {
    "name": "ipython",
    "version": 3
   },
   "file_extension": ".py",
   "mimetype": "text/x-python",
   "name": "python",
   "nbconvert_exporter": "python",
   "pygments_lexer": "ipython3",
   "version": "3.11.3"
  }
 },
 "nbformat": 4,
 "nbformat_minor": 5
}
